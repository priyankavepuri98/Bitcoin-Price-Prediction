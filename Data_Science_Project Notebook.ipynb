{
  "nbformat": 4,
  "nbformat_minor": 0,
  "metadata": {
    "colab": {
      "name": "Vepuri CS620 Data Science Project.ipynb",
      "provenance": [],
      "collapsed_sections": [
        "mzSwsLzcrJlH",
        "uTYRF0hPqtjZ"
      ],
      "toc_visible": true
    },
    "kernelspec": {
      "name": "python3",
      "display_name": "Python 3"
    }
  },
  "cells": [
    {
      "cell_type": "markdown",
      "metadata": {
        "id": "AsS30UZysrar"
      },
      "source": [
        "# **PREDICTING PRICES OF BITCOIN**\n",
        "\n"
      ]
    },
    {
      "cell_type": "markdown",
      "metadata": {
        "id": "mad9m4CcBnUr"
      },
      "source": [
        "## **Abstract**"
      ]
    },
    {
      "cell_type": "markdown",
      "metadata": {
        "id": "cvQRrqA9tuxf"
      },
      "source": [
        "**Name:** Priyanka Vepuri\n",
        "\n",
        "**Email:** pvepu001@odu.edu\n",
        "\n",
        "**Web Portfolio:** https://www.cs.odu.edu/~pvepuri"
      ]
    },
    {
      "cell_type": "markdown",
      "metadata": {
        "id": "pPHhhOZul5B8"
      },
      "source": [
        "### **Data Source:**\n",
        "\n",
        "**Dataset URL:** https://finance.yahoo.com/quote/BTC-USD/history?p=BTC-USD\n",
        "\n",
        "**Problem Statement:** Its hard to envision what might have been the condition in the earlier years for instance like 2012 or 2013 when the cost of bitcoin was roughly 10 dollars without realizing that it would have crossed $18000 later on as a result of which individuals are currently remorseful. So this is the enormous predicament which the commoners face in the terms of Cryptocurrency. We truly don't have any desire to slacken out on the following bounce in cost however we don't know when that hop will occur or not occur. So how might we conceivably take care of this issue.\n",
        "Since its a real time data, I will be considering the data only till feb 6 2021. "
      ]
    },
    {
      "cell_type": "markdown",
      "metadata": {
        "id": "QUO_5ZOmmF2f"
      },
      "source": [
        "\n",
        "### **Project Plan:** \n",
        "In order to successfully build the project, it would be divided into the following stages:\n",
        "\n",
        "### Stage-1: Gather, explore, and visualize the data.\n",
        "\n",
        "\n",
        "### Stage-2: Difference the data and check for stationarity.\n",
        "\n",
        "\n",
        "### Stage-3: Plot the ACF and PACF for the differenced data\n",
        "\n",
        "\n",
        "### Stage-4: Start modeling by searching for the best parameters.\n",
        "\n",
        "\n",
        "### Stage-5: Train and test the model with the optimized parameters.\n",
        "\n",
        "\n",
        "### Stage-6: Forecast the future of Cryptocurrency."
      ]
    },
    {
      "cell_type": "markdown",
      "metadata": {
        "id": "FJAFh8ooDM42"
      },
      "source": [
        "### **End Goal:** \n",
        "To take care of this issue, Machine learning can provide us great solution. It can deliver insights which we need to find out about the future of Cryptocurrency. It would reveal to us the experiences as well as it would convey the pattern and the bearing to anticipate the development of the costs. To achieve this business objective, I would utilize Time Series Machine learning models which would consider the past data, patterns and insights to foresee the future.The Time Series models that I will be focusing on would be SARIMA. SARIMA or ARIMA is a relatively basic Time Series model that I will be implementing and explaining the necessary components involved in it. After modeling, I will compare the results from each model’s unique insights into Bitcoin’s future.\n"
      ]
    },
    {
      "cell_type": "markdown",
      "metadata": {
        "id": "04JMWe8A4wEc"
      },
      "source": [
        "# Stage-1: Gather, explore and visualize the data"
      ]
    },
    {
      "cell_type": "code",
      "metadata": {
        "colab": {
          "resources": {
            "http://localhost:8080/nbextensions/google.colab/files.js": {
              "data": "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",
              "ok": true,
              "headers": [
                [
                  "content-type",
                  "application/javascript"
                ]
              ],
              "status": 200,
              "status_text": ""
            }
          },
          "base_uri": "https://localhost:8080/",
          "height": 73
        },
        "id": "vCLojTYAAEVL",
        "outputId": "7e72363b-1422-4f56-cf62-bc5af972d835"
      },
      "source": [
        "import pandas as pd\n",
        "from google.colab import files\n",
        "uploaded = files.upload() "
      ],
      "execution_count": null,
      "outputs": [
        {
          "output_type": "display_data",
          "data": {
            "text/html": [
              "\n",
              "     <input type=\"file\" id=\"files-291c14fc-3b8a-41c8-94d2-01be5f35b34c\" name=\"files[]\" multiple disabled\n",
              "        style=\"border:none\" />\n",
              "     <output id=\"result-291c14fc-3b8a-41c8-94d2-01be5f35b34c\">\n",
              "      Upload widget is only available when the cell has been executed in the\n",
              "      current browser session. Please rerun this cell to enable.\n",
              "      </output>\n",
              "      <script src=\"/nbextensions/google.colab/files.js\"></script> "
            ],
            "text/plain": [
              "<IPython.core.display.HTML object>"
            ]
          },
          "metadata": {
            "tags": []
          }
        },
        {
          "output_type": "stream",
          "text": [
            "Saving BTC-USD.csv to BTC-USD (13).csv\n"
          ],
          "name": "stdout"
        }
      ]
    },
    {
      "cell_type": "markdown",
      "metadata": {
        "id": "RwoYp-t-EFBR"
      },
      "source": [
        "##Reading the raw data:\n",
        "\n",
        "* Retrieving the historical data of the Bitcoin being downloaded from the yahoo finance website and displaying the initial six records.\n",
        "\n",
        "* The ‘**read_csv()**’ function from the ‘**pandas**’ library is used to load the data into dataframe from the remote ‘url’.\n",
        "\n",
        "* By using '**head()**' function, we can display the first few records of the dataset.\n",
        "\n",
        "\n",
        "\n"
      ]
    },
    {
      "cell_type": "code",
      "metadata": {
        "id": "p7P7zdiAAg8g"
      },
      "source": [
        "import io\n",
        "bitcoin = pd.read_csv(io.BytesIO(uploaded['BTC-USD.csv']))"
      ],
      "execution_count": null,
      "outputs": []
    },
    {
      "cell_type": "markdown",
      "metadata": {
        "id": "HLlmqYz6l_58"
      },
      "source": [
        "### **First few records of the data set:**"
      ]
    },
    {
      "cell_type": "code",
      "metadata": {
        "colab": {
          "base_uri": "https://localhost:8080/",
          "height": 235
        },
        "id": "upouo8kaAkZy",
        "outputId": "e75f233d-ee59-46fd-ab45-eb00a852f2c6"
      },
      "source": [
        "bitcoin.head(6)"
      ],
      "execution_count": null,
      "outputs": [
        {
          "output_type": "execute_result",
          "data": {
            "text/html": [
              "<div>\n",
              "<style scoped>\n",
              "    .dataframe tbody tr th:only-of-type {\n",
              "        vertical-align: middle;\n",
              "    }\n",
              "\n",
              "    .dataframe tbody tr th {\n",
              "        vertical-align: top;\n",
              "    }\n",
              "\n",
              "    .dataframe thead th {\n",
              "        text-align: right;\n",
              "    }\n",
              "</style>\n",
              "<table border=\"1\" class=\"dataframe\">\n",
              "  <thead>\n",
              "    <tr style=\"text-align: right;\">\n",
              "      <th></th>\n",
              "      <th>Date</th>\n",
              "      <th>Open</th>\n",
              "      <th>High</th>\n",
              "      <th>Low</th>\n",
              "      <th>Close</th>\n",
              "      <th>Adj Close</th>\n",
              "      <th>Volume</th>\n",
              "    </tr>\n",
              "  </thead>\n",
              "  <tbody>\n",
              "    <tr>\n",
              "      <th>0</th>\n",
              "      <td>2020-02-06</td>\n",
              "      <td>9617.821289</td>\n",
              "      <td>9824.619141</td>\n",
              "      <td>9539.818359</td>\n",
              "      <td>9729.801758</td>\n",
              "      <td>9729.801758</td>\n",
              "      <td>3.762882e+10</td>\n",
              "    </tr>\n",
              "    <tr>\n",
              "      <th>1</th>\n",
              "      <td>2020-02-07</td>\n",
              "      <td>9726.002930</td>\n",
              "      <td>9834.716797</td>\n",
              "      <td>9726.002930</td>\n",
              "      <td>9795.943359</td>\n",
              "      <td>9795.943359</td>\n",
              "      <td>3.452272e+10</td>\n",
              "    </tr>\n",
              "    <tr>\n",
              "      <th>2</th>\n",
              "      <td>2020-02-08</td>\n",
              "      <td>9793.070313</td>\n",
              "      <td>9876.749023</td>\n",
              "      <td>9678.910156</td>\n",
              "      <td>9865.119141</td>\n",
              "      <td>9865.119141</td>\n",
              "      <td>3.517204e+10</td>\n",
              "    </tr>\n",
              "    <tr>\n",
              "      <th>3</th>\n",
              "      <td>2020-02-09</td>\n",
              "      <td>9863.894531</td>\n",
              "      <td>10129.435547</td>\n",
              "      <td>9850.392578</td>\n",
              "      <td>10116.673828</td>\n",
              "      <td>10116.673828</td>\n",
              "      <td>3.580788e+10</td>\n",
              "    </tr>\n",
              "    <tr>\n",
              "      <th>4</th>\n",
              "      <td>2020-02-10</td>\n",
              "      <td>10115.559570</td>\n",
              "      <td>10165.765625</td>\n",
              "      <td>9784.563477</td>\n",
              "      <td>9856.611328</td>\n",
              "      <td>9856.611328</td>\n",
              "      <td>3.938655e+10</td>\n",
              "    </tr>\n",
              "    <tr>\n",
              "      <th>5</th>\n",
              "      <td>2020-02-11</td>\n",
              "      <td>9855.891602</td>\n",
              "      <td>10210.052734</td>\n",
              "      <td>9729.334961</td>\n",
              "      <td>10208.236328</td>\n",
              "      <td>10208.236328</td>\n",
              "      <td>3.764806e+10</td>\n",
              "    </tr>\n",
              "  </tbody>\n",
              "</table>\n",
              "</div>"
            ],
            "text/plain": [
              "         Date          Open  ...     Adj Close        Volume\n",
              "0  2020-02-06   9617.821289  ...   9729.801758  3.762882e+10\n",
              "1  2020-02-07   9726.002930  ...   9795.943359  3.452272e+10\n",
              "2  2020-02-08   9793.070313  ...   9865.119141  3.517204e+10\n",
              "3  2020-02-09   9863.894531  ...  10116.673828  3.580788e+10\n",
              "4  2020-02-10  10115.559570  ...   9856.611328  3.938655e+10\n",
              "5  2020-02-11   9855.891602  ...  10208.236328  3.764806e+10\n",
              "\n",
              "[6 rows x 7 columns]"
            ]
          },
          "metadata": {
            "tags": []
          },
          "execution_count": 220
        }
      ]
    },
    {
      "cell_type": "markdown",
      "metadata": {
        "id": "gXu_lEIl6vDO"
      },
      "source": [
        "##Exploring the data:\n",
        "\n",
        "* Since the date column is not in the date-time format, we will initially change over it to date time with the goal that it is easier for the machine learning model to process on the right type of data.\n",
        "\n",
        "* With the goal that there will not be any issue while demonstrating/modeling.\n",
        "\n",
        "* Setting the date column as index.\n",
        "\n",
        "\n",
        "\n",
        "\n",
        "\n"
      ]
    },
    {
      "cell_type": "code",
      "metadata": {
        "id": "ce9SJenRG4Om"
      },
      "source": [
        "# Converting to datetime\n",
        "\n",
        "bitcoin['Date'] = pd.to_datetime(bitcoin.Date)"
      ],
      "execution_count": null,
      "outputs": []
    },
    {
      "cell_type": "code",
      "metadata": {
        "colab": {
          "base_uri": "https://localhost:8080/"
        },
        "id": "onoPuEGt38Ru",
        "outputId": "b641b3f0-242e-4cfd-a336-61ac7c4606f5"
      },
      "source": [
        "bitcoin['Date']"
      ],
      "execution_count": null,
      "outputs": [
        {
          "output_type": "execute_result",
          "data": {
            "text/plain": [
              "0     2020-02-06\n",
              "1     2020-02-07\n",
              "2     2020-02-08\n",
              "3     2020-02-09\n",
              "4     2020-02-10\n",
              "         ...    \n",
              "362   2021-02-02\n",
              "363   2021-02-03\n",
              "364   2021-02-04\n",
              "365   2021-02-05\n",
              "366   2021-02-06\n",
              "Name: Date, Length: 367, dtype: datetime64[ns]"
            ]
          },
          "metadata": {
            "tags": []
          },
          "execution_count": 222
        }
      ]
    },
    {
      "cell_type": "markdown",
      "metadata": {
        "id": "ZZxQbsY6gq4U"
      },
      "source": [
        "Observation:\n",
        "\n",
        "Converted the date into datetime format and a new column 'date' is shown"
      ]
    },
    {
      "cell_type": "code",
      "metadata": {
        "id": "92bhORWpHov6"
      },
      "source": [
        "# Setting the index as the dates\n",
        "\n",
        "bitcoin.set_index('Date', inplace=True)"
      ],
      "execution_count": null,
      "outputs": []
    },
    {
      "cell_type": "markdown",
      "metadata": {
        "id": "86Rs-YqDh2HV"
      },
      "source": [
        "Observation:\n",
        "\n",
        "Converted the particular 'date' column into index"
      ]
    },
    {
      "cell_type": "code",
      "metadata": {
        "id": "1A0XFlNTIIyI"
      },
      "source": [
        "# Selecting only the dates from 2020-02-06 onwards\n",
        "\n",
        "bitcoinClose = bitcoin[['Close']].loc['2020-02-06':]"
      ],
      "execution_count": null,
      "outputs": []
    },
    {
      "cell_type": "markdown",
      "metadata": {
        "id": "xfUHNydYh2vF"
      },
      "source": [
        "Observation:\n",
        "\n",
        "A separate single dataframe is been shown for bitcoinClose"
      ]
    },
    {
      "cell_type": "code",
      "metadata": {
        "id": "s4UJYUHVgDpL"
      },
      "source": [
        "# Selecting only the dates from 2020-02-06 onwards\n",
        "\n",
        "bitcoinOpen = bitcoin[['Open']].loc['2020-02-06':]\n",
        "bitcoinHigh = bitcoin[['High']].loc['2020-02-06':]\n",
        "bitcoinLow = bitcoin[['Low']].loc['2020-02-06':]\n",
        "bitcoinAdjClose = bitcoin[['Adj Close']].loc['2020-02-06':]\n",
        "bitcoinVolume = bitcoin[['Volume']].loc['2020-02-06':]"
      ],
      "execution_count": null,
      "outputs": []
    },
    {
      "cell_type": "markdown",
      "metadata": {
        "id": "Z5VPgCQmh3Hm"
      },
      "source": [
        "Observation:\n",
        "\n",
        "Similar to the before step, a separate single dataframe is been shown for bitcoinOpen, bitcoinHigh, bitcoinLow, bitcoinAdjClose and bitcoinVolume"
      ]
    },
    {
      "cell_type": "code",
      "metadata": {
        "colab": {
          "base_uri": "https://localhost:8080/",
          "height": 450
        },
        "id": "7TfHWomCNJm8",
        "outputId": "35a42fb9-8aa2-4434-ab46-bb2749f68f63"
      },
      "source": [
        "# Selecting only the dates from 2020-02-06 onwards\n",
        "bitcoin = bitcoin[['Close']].loc['2020-02-06':]\n",
        "bitcoin"
      ],
      "execution_count": null,
      "outputs": [
        {
          "output_type": "execute_result",
          "data": {
            "text/html": [
              "<div>\n",
              "<style scoped>\n",
              "    .dataframe tbody tr th:only-of-type {\n",
              "        vertical-align: middle;\n",
              "    }\n",
              "\n",
              "    .dataframe tbody tr th {\n",
              "        vertical-align: top;\n",
              "    }\n",
              "\n",
              "    .dataframe thead th {\n",
              "        text-align: right;\n",
              "    }\n",
              "</style>\n",
              "<table border=\"1\" class=\"dataframe\">\n",
              "  <thead>\n",
              "    <tr style=\"text-align: right;\">\n",
              "      <th></th>\n",
              "      <th>Close</th>\n",
              "    </tr>\n",
              "    <tr>\n",
              "      <th>Date</th>\n",
              "      <th></th>\n",
              "    </tr>\n",
              "  </thead>\n",
              "  <tbody>\n",
              "    <tr>\n",
              "      <th>2020-02-06</th>\n",
              "      <td>9729.801758</td>\n",
              "    </tr>\n",
              "    <tr>\n",
              "      <th>2020-02-07</th>\n",
              "      <td>9795.943359</td>\n",
              "    </tr>\n",
              "    <tr>\n",
              "      <th>2020-02-08</th>\n",
              "      <td>9865.119141</td>\n",
              "    </tr>\n",
              "    <tr>\n",
              "      <th>2020-02-09</th>\n",
              "      <td>10116.673828</td>\n",
              "    </tr>\n",
              "    <tr>\n",
              "      <th>2020-02-10</th>\n",
              "      <td>9856.611328</td>\n",
              "    </tr>\n",
              "    <tr>\n",
              "      <th>...</th>\n",
              "      <td>...</td>\n",
              "    </tr>\n",
              "    <tr>\n",
              "      <th>2021-02-02</th>\n",
              "      <td>35510.289063</td>\n",
              "    </tr>\n",
              "    <tr>\n",
              "      <th>2021-02-03</th>\n",
              "      <td>37472.089844</td>\n",
              "    </tr>\n",
              "    <tr>\n",
              "      <th>2021-02-04</th>\n",
              "      <td>36926.066406</td>\n",
              "    </tr>\n",
              "    <tr>\n",
              "      <th>2021-02-05</th>\n",
              "      <td>38144.308594</td>\n",
              "    </tr>\n",
              "    <tr>\n",
              "      <th>2021-02-06</th>\n",
              "      <td>40261.902344</td>\n",
              "    </tr>\n",
              "  </tbody>\n",
              "</table>\n",
              "<p>367 rows × 1 columns</p>\n",
              "</div>"
            ],
            "text/plain": [
              "                   Close\n",
              "Date                    \n",
              "2020-02-06   9729.801758\n",
              "2020-02-07   9795.943359\n",
              "2020-02-08   9865.119141\n",
              "2020-02-09  10116.673828\n",
              "2020-02-10   9856.611328\n",
              "...                  ...\n",
              "2021-02-02  35510.289063\n",
              "2021-02-03  37472.089844\n",
              "2021-02-04  36926.066406\n",
              "2021-02-05  38144.308594\n",
              "2021-02-06  40261.902344\n",
              "\n",
              "[367 rows x 1 columns]"
            ]
          },
          "metadata": {
            "tags": []
          },
          "execution_count": 226
        }
      ]
    },
    {
      "cell_type": "markdown",
      "metadata": {
        "id": "h9WZKlZ0jT1C"
      },
      "source": [
        "Observation:\n",
        " \n",
        " A dataframe ‘bitcoin’ is made as the analysis and modelling is done based on the closing price on the bitcoin."
      ]
    },
    {
      "cell_type": "markdown",
      "metadata": {
        "id": "HXnCVbIy76VE"
      },
      "source": [
        "## Visualization of the Data:\n",
        "\n",
        "* Retrieving the data from 2020-02-06 onwards, after doing the data wrangling part, let's focus on building visualizations.\n",
        "\n",
        "* The first visualization is going to be focused on the bitcoin’s price movement over the most recent year i.e., from 2020-02-06 to 2021-02-06.\n",
        "\n",
        "* Closing price of the bitcoin:\n",
        " 1. We plot our data frame to see Bitcoin's price movement on its closing value in the course of the most recent year. \n",
        "\n",
        " 2. The most recent year was chosen since Bitcoin, and Cryptocurrency turned out to be extremely famous and is a better representation of current market trends.\n",
        "\n",
        "\n",
        "\n"
      ]
    },
    {
      "cell_type": "code",
      "metadata": {
        "colab": {
          "base_uri": "https://localhost:8080/",
          "height": 291
        },
        "id": "uFxVrcIkJvzS",
        "outputId": "a792bb15-3a3f-40d7-9649-aa267369620d"
      },
      "source": [
        "import matplotlib.pyplot as plt\n",
        "from matplotlib import pyplot\n",
        "bitcoinClose.plot()\n",
        "pyplot.show()"
      ],
      "execution_count": null,
      "outputs": [
        {
          "output_type": "display_data",
          "data": {
            "image/png": "[encoded data removed]",
            "text/plain": [
              "<Figure size 432x288 with 1 Axes>"
            ]
          },
          "metadata": {
            "tags": [],
            "needs_background": "light"
          }
        }
      ]
    },
    {
      "cell_type": "markdown",
      "metadata": {
        "id": "bnXI0dV_mqAm"
      },
      "source": [
        "Observation:\n",
        "\n",
        "From the above visualization, we can see the closing price of the bitcoin from Feb 2020 till Feb 2021, where there is an exponential rise till the start of January 2021 followed by a sudden dip from January to the start of February 2021 and afterward again a rise in Feb 2021. "
      ]
    },
    {
      "cell_type": "code",
      "metadata": {
        "colab": {
          "base_uri": "https://localhost:8080/",
          "height": 291
        },
        "id": "scQAfN7-ikzl",
        "outputId": "5fa17b39-0581-4405-9e57-e083d6b79995"
      },
      "source": [
        "import matplotlib.pyplot as plt\n",
        "from matplotlib import pyplot\n",
        "bitcoinOpen.plot()\n",
        "pyplot.show()"
      ],
      "execution_count": null,
      "outputs": [
        {
          "output_type": "display_data",
          "data": {
            "image/png": "[encoded data removed]",
            "text/plain": [
              "<Figure size 432x288 with 1 Axes>"
            ]
          },
          "metadata": {
            "tags": [],
            "needs_background": "light"
          }
        }
      ]
    },
    {
      "cell_type": "code",
      "metadata": {
        "colab": {
          "base_uri": "https://localhost:8080/",
          "height": 291
        },
        "id": "JJSWziR4ilSa",
        "outputId": "999a8dbc-d961-4532-8f6a-039079c53c2b"
      },
      "source": [
        "import matplotlib.pyplot as plt\n",
        "from matplotlib import pyplot\n",
        "bitcoinHigh.plot()\n",
        "pyplot.show()"
      ],
      "execution_count": null,
      "outputs": [
        {
          "output_type": "display_data",
          "data": {
            "image/png": "[encoded data removed]",
            "text/plain": [
              "<Figure size 432x288 with 1 Axes>"
            ]
          },
          "metadata": {
            "tags": [],
            "needs_background": "light"
          }
        }
      ]
    },
    {
      "cell_type": "code",
      "metadata": {
        "colab": {
          "base_uri": "https://localhost:8080/",
          "height": 291
        },
        "id": "nYmKN3KFimZx",
        "outputId": "86fea583-2b25-4089-d5ea-54dde143db61"
      },
      "source": [
        "import matplotlib.pyplot as plt\n",
        "from matplotlib import pyplot\n",
        "bitcoinLow.plot()\n",
        "pyplot.show()"
      ],
      "execution_count": null,
      "outputs": [
        {
          "output_type": "display_data",
          "data": {
            "image/png": "[encoded data removed]",
            "text/plain": [
              "<Figure size 432x288 with 1 Axes>"
            ]
          },
          "metadata": {
            "tags": [],
            "needs_background": "light"
          }
        }
      ]
    },
    {
      "cell_type": "code",
      "metadata": {
        "colab": {
          "base_uri": "https://localhost:8080/",
          "height": 291
        },
        "id": "4llY-2IjkaKp",
        "outputId": "3b70e54a-f633-4d69-8e50-11a396f2aef7"
      },
      "source": [
        "import matplotlib.pyplot as plt\n",
        "from matplotlib import pyplot\n",
        "bitcoinAdjClose.plot()\n",
        "pyplot.show()"
      ],
      "execution_count": null,
      "outputs": [
        {
          "output_type": "display_data",
          "data": {
            "image/png": "[encoded data removed]",
            "text/plain": [
              "<Figure size 432x288 with 1 Axes>"
            ]
          },
          "metadata": {
            "tags": [],
            "needs_background": "light"
          }
        }
      ]
    },
    {
      "cell_type": "markdown",
      "metadata": {
        "id": "UbABV-aAFVq1"
      },
      "source": [
        "Observation:\n",
        "\n",
        "Since the values of other attributes like \"Open, High, Low AdjClose\" are too close to the closing price values, there is no much difference in the visualizations too."
      ]
    },
    {
      "cell_type": "code",
      "metadata": {
        "colab": {
          "base_uri": "https://localhost:8080/",
          "height": 302
        },
        "id": "QgRugClbmDxZ",
        "outputId": "b7ab3b1a-5058-411e-ad6b-072f733d26dc"
      },
      "source": [
        "import matplotlib.pyplot as plt\n",
        "from matplotlib import pyplot\n",
        "bitcoinVolume.plot()\n",
        "pyplot.show()"
      ],
      "execution_count": null,
      "outputs": [
        {
          "output_type": "display_data",
          "data": {
            "image/png": "[encoded data removed]",
            "text/plain": [
              "<Figure size 432x288 with 1 Axes>"
            ]
          },
          "metadata": {
            "tags": [],
            "needs_background": "light"
          }
        }
      ]
    },
    {
      "cell_type": "markdown",
      "metadata": {
        "id": "S1D1r1tI_B9z"
      },
      "source": [
        "**Observation**:\n",
        "\n",
        "There was very less fluctuation till january 2021. However, at that point there was an abrupt increment and decline from jan to feb 2021.\n"
      ]
    },
    {
      "cell_type": "markdown",
      "metadata": {
        "id": "Vncfio_yBBMH"
      },
      "source": [
        "# Stage-2: Difference the Data and Check for Stationarity"
      ]
    },
    {
      "cell_type": "markdown",
      "metadata": {
        "id": "8ArzlVNVBRoE"
      },
      "source": [
        "## Differencing the Data:\n",
        "\n",
        "* Let’s prepare the data for modeling by making the data stationary. \n",
        "\n",
        "* This is done by simply differencing the data and testing for stationarity by using statistical test called the **Dickey-Fuller test.** \n",
        "\n",
        "* We are aiming for a **P-Value** of less than the critical value of 5%, or simply trying to get as close to zero as possible. \n",
        "\n",
        "* For even a lower P-value, we’ll take the log of the prices, then difference the log instead of just differencing the prices."
      ]
    },
    {
      "cell_type": "code",
      "metadata": {
        "id": "rZr-PGiSN2Hx"
      },
      "source": [
        "import numpy as np\n",
        "# Converting the data to a logarithmic scale\n",
        "bitcoin_log = pd.DataFrame(np.log(bitcoin.Close))"
      ],
      "execution_count": null,
      "outputs": []
    },
    {
      "cell_type": "code",
      "metadata": {
        "colab": {
          "base_uri": "https://localhost:8080/",
          "height": 450
        },
        "id": "ogwM9FUx4zrm",
        "outputId": "5ecde986-ac64-480c-b131-95895f7118f9"
      },
      "source": [
        "bitcoin_log"
      ],
      "execution_count": null,
      "outputs": [
        {
          "output_type": "execute_result",
          "data": {
            "text/html": [
              "<div>\n",
              "<style scoped>\n",
              "    .dataframe tbody tr th:only-of-type {\n",
              "        vertical-align: middle;\n",
              "    }\n",
              "\n",
              "    .dataframe tbody tr th {\n",
              "        vertical-align: top;\n",
              "    }\n",
              "\n",
              "    .dataframe thead th {\n",
              "        text-align: right;\n",
              "    }\n",
              "</style>\n",
              "<table border=\"1\" class=\"dataframe\">\n",
              "  <thead>\n",
              "    <tr style=\"text-align: right;\">\n",
              "      <th></th>\n",
              "      <th>Close</th>\n",
              "    </tr>\n",
              "    <tr>\n",
              "      <th>Date</th>\n",
              "      <th></th>\n",
              "    </tr>\n",
              "  </thead>\n",
              "  <tbody>\n",
              "    <tr>\n",
              "      <th>2020-02-06</th>\n",
              "      <td>9.182949</td>\n",
              "    </tr>\n",
              "    <tr>\n",
              "      <th>2020-02-07</th>\n",
              "      <td>9.189724</td>\n",
              "    </tr>\n",
              "    <tr>\n",
              "      <th>2020-02-08</th>\n",
              "      <td>9.196760</td>\n",
              "    </tr>\n",
              "    <tr>\n",
              "      <th>2020-02-09</th>\n",
              "      <td>9.221940</td>\n",
              "    </tr>\n",
              "    <tr>\n",
              "      <th>2020-02-10</th>\n",
              "      <td>9.195898</td>\n",
              "    </tr>\n",
              "    <tr>\n",
              "      <th>...</th>\n",
              "      <td>...</td>\n",
              "    </tr>\n",
              "    <tr>\n",
              "      <th>2021-02-02</th>\n",
              "      <td>10.477578</td>\n",
              "    </tr>\n",
              "    <tr>\n",
              "      <th>2021-02-03</th>\n",
              "      <td>10.531352</td>\n",
              "    </tr>\n",
              "    <tr>\n",
              "      <th>2021-02-04</th>\n",
              "      <td>10.516673</td>\n",
              "    </tr>\n",
              "    <tr>\n",
              "      <th>2021-02-05</th>\n",
              "      <td>10.549132</td>\n",
              "    </tr>\n",
              "    <tr>\n",
              "      <th>2021-02-06</th>\n",
              "      <td>10.603161</td>\n",
              "    </tr>\n",
              "  </tbody>\n",
              "</table>\n",
              "<p>367 rows × 1 columns</p>\n",
              "</div>"
            ],
            "text/plain": [
              "                Close\n",
              "Date                 \n",
              "2020-02-06   9.182949\n",
              "2020-02-07   9.189724\n",
              "2020-02-08   9.196760\n",
              "2020-02-09   9.221940\n",
              "2020-02-10   9.195898\n",
              "...               ...\n",
              "2021-02-02  10.477578\n",
              "2021-02-03  10.531352\n",
              "2021-02-04  10.516673\n",
              "2021-02-05  10.549132\n",
              "2021-02-06  10.603161\n",
              "\n",
              "[367 rows x 1 columns]"
            ]
          },
          "metadata": {
            "tags": []
          },
          "execution_count": 234
        }
      ]
    },
    {
      "cell_type": "markdown",
      "metadata": {
        "id": "gQahFOb9qVEd"
      },
      "source": [
        "**Observation**:\n",
        "\n",
        "A dataframe 'bitcoin_log' is shown which converts the original closing prices of the bitcoin to their log values respectively."
      ]
    },
    {
      "cell_type": "code",
      "metadata": {
        "id": "DRKERJ1aOWHf"
      },
      "source": [
        "# Differencing the log values\n",
        "log_diff = bitcoin_log.diff().dropna()"
      ],
      "execution_count": null,
      "outputs": []
    },
    {
      "cell_type": "code",
      "metadata": {
        "colab": {
          "base_uri": "https://localhost:8080/",
          "height": 450
        },
        "id": "ogS1B8bO46Wo",
        "outputId": "e26cc077-623a-4ef5-99fd-287ec016136c"
      },
      "source": [
        "log_diff"
      ],
      "execution_count": null,
      "outputs": [
        {
          "output_type": "execute_result",
          "data": {
            "text/html": [
              "<div>\n",
              "<style scoped>\n",
              "    .dataframe tbody tr th:only-of-type {\n",
              "        vertical-align: middle;\n",
              "    }\n",
              "\n",
              "    .dataframe tbody tr th {\n",
              "        vertical-align: top;\n",
              "    }\n",
              "\n",
              "    .dataframe thead th {\n",
              "        text-align: right;\n",
              "    }\n",
              "</style>\n",
              "<table border=\"1\" class=\"dataframe\">\n",
              "  <thead>\n",
              "    <tr style=\"text-align: right;\">\n",
              "      <th></th>\n",
              "      <th>Close</th>\n",
              "    </tr>\n",
              "    <tr>\n",
              "      <th>Date</th>\n",
              "      <th></th>\n",
              "    </tr>\n",
              "  </thead>\n",
              "  <tbody>\n",
              "    <tr>\n",
              "      <th>2020-02-07</th>\n",
              "      <td>0.006775</td>\n",
              "    </tr>\n",
              "    <tr>\n",
              "      <th>2020-02-08</th>\n",
              "      <td>0.007037</td>\n",
              "    </tr>\n",
              "    <tr>\n",
              "      <th>2020-02-09</th>\n",
              "      <td>0.025180</td>\n",
              "    </tr>\n",
              "    <tr>\n",
              "      <th>2020-02-10</th>\n",
              "      <td>-0.026043</td>\n",
              "    </tr>\n",
              "    <tr>\n",
              "      <th>2020-02-11</th>\n",
              "      <td>0.035052</td>\n",
              "    </tr>\n",
              "    <tr>\n",
              "      <th>...</th>\n",
              "      <td>...</td>\n",
              "    </tr>\n",
              "    <tr>\n",
              "      <th>2021-02-02</th>\n",
              "      <td>0.057168</td>\n",
              "    </tr>\n",
              "    <tr>\n",
              "      <th>2021-02-03</th>\n",
              "      <td>0.053774</td>\n",
              "    </tr>\n",
              "    <tr>\n",
              "      <th>2021-02-04</th>\n",
              "      <td>-0.014679</td>\n",
              "    </tr>\n",
              "    <tr>\n",
              "      <th>2021-02-05</th>\n",
              "      <td>0.032459</td>\n",
              "    </tr>\n",
              "    <tr>\n",
              "      <th>2021-02-06</th>\n",
              "      <td>0.054029</td>\n",
              "    </tr>\n",
              "  </tbody>\n",
              "</table>\n",
              "<p>359 rows × 1 columns</p>\n",
              "</div>"
            ],
            "text/plain": [
              "               Close\n",
              "Date                \n",
              "2020-02-07  0.006775\n",
              "2020-02-08  0.007037\n",
              "2020-02-09  0.025180\n",
              "2020-02-10 -0.026043\n",
              "2020-02-11  0.035052\n",
              "...              ...\n",
              "2021-02-02  0.057168\n",
              "2021-02-03  0.053774\n",
              "2021-02-04 -0.014679\n",
              "2021-02-05  0.032459\n",
              "2021-02-06  0.054029\n",
              "\n",
              "[359 rows x 1 columns]"
            ]
          },
          "metadata": {
            "tags": []
          },
          "execution_count": 236
        }
      ]
    },
    {
      "cell_type": "markdown",
      "metadata": {
        "id": "hgnTMjMUrOrp"
      },
      "source": [
        "**Observation**:\n",
        "\n",
        "Differenced values of the log values are shown."
      ]
    },
    {
      "cell_type": "markdown",
      "metadata": {
        "id": "oDwVgM2tfNg3"
      },
      "source": [
        "## Stationarity:\n",
        "\n",
        "* Stationarity removes trends from the dataset which can be extremely intrusive to the models.\n",
        "\n",
        "* Stationarity makes the models perform and predict better."
      ]
    },
    {
      "cell_type": "code",
      "metadata": {
        "colab": {
          "base_uri": "https://localhost:8080/"
        },
        "id": "c7_nLVP5ObCo",
        "outputId": "62be1fa9-b19c-4a90-8b70-e8715968774c"
      },
      "source": [
        "import statsmodels.tsa.stattools\n",
        "from statsmodels.tsa.stattools import adfuller\n",
        "# Using the Dickey-Fuller test to check for stationarity\n",
        "results = adfuller(log_diff.Close)\n",
        "print(f\"P-value: {results[1]}\")"
      ],
      "execution_count": null,
      "outputs": [
        {
          "output_type": "stream",
          "text": [
            "P-value: 1.1154838854147381e-13\n"
          ],
          "name": "stdout"
        }
      ]
    },
    {
      "cell_type": "code",
      "metadata": {
        "colab": {
          "base_uri": "https://localhost:8080/"
        },
        "id": "KrQn2Lu-49m0",
        "outputId": "9b8fbf78-8167-40ec-b7f5-4b5b78ebf9f8"
      },
      "source": [
        "results"
      ],
      "execution_count": null,
      "outputs": [
        {
          "output_type": "execute_result",
          "data": {
            "text/plain": [
              "(-8.518745235271664,\n",
              " 1.1154838854147381e-13,\n",
              " 3,\n",
              " 355,\n",
              " {'1%': -3.448905534655263,\n",
              "  '10%': -2.5711258103550882,\n",
              "  '5%': -2.8697161816205705},\n",
              " -1171.8126061913558)"
            ]
          },
          "metadata": {
            "tags": []
          },
          "execution_count": 238
        }
      ]
    },
    {
      "cell_type": "markdown",
      "metadata": {
        "id": "qKfPOR5-ravy"
      },
      "source": [
        "**Obesrvation**:\n",
        "\n",
        "Hence, from the results above it is clear that the P-value is < 0.05, the data is stationary, and is ready for modeling.\n"
      ]
    },
    {
      "cell_type": "markdown",
      "metadata": {
        "id": "A14UXTamvSxT"
      },
      "source": [
        "## Visualization of the Stationary data:\n",
        "\n",
        "* Apart from the statistical analysis, I have also shown the plot which determines the stationarized time series data."
      ]
    },
    {
      "cell_type": "code",
      "metadata": {
        "colab": {
          "base_uri": "https://localhost:8080/",
          "height": 277
        },
        "id": "Uk2856E2L9jm",
        "outputId": "d8a85c57-1939-40e6-c51d-e7326edc32f2"
      },
      "source": [
        "log_diff.plot()\n",
        "pyplot.show()"
      ],
      "execution_count": null,
      "outputs": [
        {
          "output_type": "display_data",
          "data": {
            "image/png": "[encoded data removed]",
            "text/plain": [
              "<Figure size 432x288 with 1 Axes>"
            ]
          },
          "metadata": {
            "tags": [],
            "needs_background": "light"
          }
        }
      ]
    },
    {
      "cell_type": "markdown",
      "metadata": {
        "id": "ysIaD2tV5E4M"
      },
      "source": [
        "**Observation**:\n",
        "\n",
        "The mean and variance are constant to time. There are no many fluctuations. Hence, the data is stationary."
      ]
    },
    {
      "cell_type": "markdown",
      "metadata": {
        "id": "V-bggo8VxaNe"
      },
      "source": [
        "# Stage-3: Plotting the ACF and PACF for the differenced Data\n",
        "\n",
        "* We shall now plot the **Autocorrelation Function** (ACF) and **Partial Autocorrelation Function** (PACF).\n",
        "\n",
        "\n"
      ]
    },
    {
      "cell_type": "markdown",
      "metadata": {
        "id": "qN6RwELaBUBN"
      },
      "source": [
        "## Autocorrelation Function:\n",
        "\n",
        "* Since we are working with the daily data,\n",
        " **ACF** shows us which day in the past correlates the most with the current day with respect to the days in between."
      ]
    },
    {
      "cell_type": "markdown",
      "metadata": {
        "id": "T2HS4wR2oKhk"
      },
      "source": [
        "### Visualization of ACF"
      ]
    },
    {
      "cell_type": "code",
      "metadata": {
        "colab": {
          "base_uri": "https://localhost:8080/",
          "height": 281
        },
        "id": "i09ia2D7M1FW",
        "outputId": "d9b18464-d587-4966-cf1e-bc38863325a9"
      },
      "source": [
        "# Autocorrelation Plot\n",
        "import matplotlib.pyplot as plt\n",
        "import statsmodels.api as sm\n",
        "from statsmodels.graphics.tsaplots import plot_acf\n",
        "sm.graphics.tsa.plot_acf(log_diff)\n",
        "plt.show()"
      ],
      "execution_count": null,
      "outputs": [
        {
          "output_type": "display_data",
          "data": {
            "image/png": "[encoded data removed]",
            "text/plain": [
              "<Figure size 432x288 with 1 Axes>"
            ]
          },
          "metadata": {
            "tags": [],
            "needs_background": "light"
          }
        }
      ]
    },
    {
      "cell_type": "markdown",
      "metadata": {
        "id": "dQnl7umFBp7n"
      },
      "source": [
        "## Partial Autocorrelation Function:\n",
        "\n",
        "* Since we are working with the daily data, **PACF** shows us which day in the past correlates directly to the current day by ignoring the days in between."
      ]
    },
    {
      "cell_type": "markdown",
      "metadata": {
        "id": "wquDAMGCoSsP"
      },
      "source": [
        "### Visualization of PACF"
      ]
    },
    {
      "cell_type": "code",
      "metadata": {
        "colab": {
          "base_uri": "https://localhost:8080/",
          "height": 281
        },
        "id": "XWQT0zVZNrqO",
        "outputId": "6e103c1a-57d0-485d-d226-e0fea9499047"
      },
      "source": [
        "# Partial Autocorrelation Plot\n",
        "import matplotlib.pyplot as plt\n",
        "import statsmodels.api as sm\n",
        "from statsmodels.graphics.tsaplots import plot_acf\n",
        "sm.graphics.tsa.plot_pacf(log_diff)\n",
        "plt.show()\n"
      ],
      "execution_count": null,
      "outputs": [
        {
          "output_type": "display_data",
          "data": {
            "image/png": "[encoded data removed]",
            "text/plain": [
              "<Figure size 432x288 with 1 Axes>"
            ]
          },
          "metadata": {
            "tags": [],
            "needs_background": "light"
          }
        }
      ]
    },
    {
      "cell_type": "markdown",
      "metadata": {
        "id": "yGYFHNRJxgWk"
      },
      "source": [
        "# Stage-4: Start modeling by searching for the best parameters."
      ]
    },
    {
      "cell_type": "markdown",
      "metadata": {
        "id": "aPLzJhDWzb3j"
      },
      "source": [
        "## SARIMA Modeling\n",
        "Modeling the data by using the SARIMA model."
      ]
    },
    {
      "cell_type": "markdown",
      "metadata": {
        "id": "nwYseo10z8aG"
      },
      "source": [
        "## Optimizing Parameters\n",
        "* In order to get the best performance out of the model, we must find the optimum parameters. \n",
        "* We do this by trying many different combinations of the parameters and selecting the one with the relatively lowest AIC score."
      ]
    },
    {
      "cell_type": "code",
      "metadata": {
        "colab": {
          "base_uri": "https://localhost:8080/"
        },
        "id": "3Ys2qSCWXBF4",
        "outputId": "9ae01281-71da-46b4-a49d-52c3ca30c39a"
      },
      "source": [
        "import itertools\n",
        "\n",
        "p = d = q = range(0, 2)\n",
        "pdq = list(itertools.product(p, d, q))\n",
        "seasonal_pdq = [(x[0], x[1], x[2], 12) for x in list(itertools.product(p, d, q))]\n",
        "print('Examples of parameter combinations for Seasonal ARIMA...')\n",
        "print('SARIMAX: {} x {}'.format(pdq[1], seasonal_pdq[1]))\n",
        "print('SARIMAX: {} x {}'.format(pdq[1], seasonal_pdq[2]))\n",
        "print('SARIMAX: {} x {}'.format(pdq[2], seasonal_pdq[3]))\n",
        "print('SARIMAX: {} x {}'.format(pdq[2], seasonal_pdq[4]))"
      ],
      "execution_count": null,
      "outputs": [
        {
          "output_type": "stream",
          "text": [
            "Examples of parameter combinations for Seasonal ARIMA...\n",
            "SARIMAX: (0, 0, 1) x (0, 0, 1, 12)\n",
            "SARIMAX: (0, 0, 1) x (0, 1, 0, 12)\n",
            "SARIMAX: (0, 1, 0) x (0, 1, 1, 12)\n",
            "SARIMAX: (0, 1, 0) x (1, 0, 0, 12)\n"
          ],
          "name": "stdout"
        }
      ]
    },
    {
      "cell_type": "code",
      "metadata": {
        "colab": {
          "base_uri": "https://localhost:8080/"
        },
        "id": "3exFAbGs5L2J",
        "outputId": "32d0a1b0-bc22-4e64-fc7a-2e6583f114a0"
      },
      "source": [
        "pdq, seasonal_pdq "
      ],
      "execution_count": null,
      "outputs": [
        {
          "output_type": "execute_result",
          "data": {
            "text/plain": [
              "([(0, 0, 0),\n",
              "  (0, 0, 1),\n",
              "  (0, 1, 0),\n",
              "  (0, 1, 1),\n",
              "  (1, 0, 0),\n",
              "  (1, 0, 1),\n",
              "  (1, 1, 0),\n",
              "  (1, 1, 1)],\n",
              " [(0, 0, 0, 12),\n",
              "  (0, 0, 1, 12),\n",
              "  (0, 1, 0, 12),\n",
              "  (0, 1, 1, 12),\n",
              "  (1, 0, 0, 12),\n",
              "  (1, 0, 1, 12),\n",
              "  (1, 1, 0, 12),\n",
              "  (1, 1, 1, 12)])"
            ]
          },
          "metadata": {
            "tags": []
          },
          "execution_count": 243
        }
      ]
    },
    {
      "cell_type": "markdown",
      "metadata": {
        "id": "h2Sb6xow8No1"
      },
      "source": [
        "**Observation**:\n",
        "\n",
        "Made combinations of (p, d, q) x (seasonal pdq) value."
      ]
    },
    {
      "cell_type": "code",
      "metadata": {
        "colab": {
          "base_uri": "https://localhost:8080/"
        },
        "id": "dOGRLabUYUqn",
        "outputId": "c08065b1-8dbd-4e26-e4d4-d79c6f2c9194"
      },
      "source": [
        "for param in pdq:\n",
        "    for param_seasonal in seasonal_pdq:\n",
        "        try:\n",
        "            mod = sm.tsa.statespace.SARIMAX(bitcoin_log,\n",
        "                                            order=param,\n",
        "                                            seasonal_order=param_seasonal,\n",
        "                                            enforce_stationarity=False,\n",
        "                                            enforce_invertibility=False)\n",
        "            results = mod.fit()\n",
        "            print('ARIMA{}x{}12 - AIC:{}'.format(param, param_seasonal, results.aic))\n",
        "        except:\n",
        "            continue"
      ],
      "execution_count": null,
      "outputs": [
        {
          "output_type": "stream",
          "text": [
            "/usr/local/lib/python3.7/dist-packages/statsmodels/tsa/base/tsa_model.py:165: ValueWarning: No frequency information was provided, so inferred frequency D will be used.\n",
            "  % freq, ValueWarning)\n",
            "/usr/local/lib/python3.7/dist-packages/statsmodels/tsa/base/tsa_model.py:165: ValueWarning: No frequency information was provided, so inferred frequency D will be used.\n",
            "  % freq, ValueWarning)\n"
          ],
          "name": "stderr"
        },
        {
          "output_type": "stream",
          "text": [
            "ARIMA(0, 0, 0)x(0, 0, 0, 12)12 - AIC:2652.6423326565673\n"
          ],
          "name": "stdout"
        },
        {
          "output_type": "stream",
          "text": [
            "/usr/local/lib/python3.7/dist-packages/statsmodels/base/model.py:512: ConvergenceWarning: Maximum Likelihood optimization failed to converge. Check mle_retvals\n",
            "  \"Check mle_retvals\", ConvergenceWarning)\n",
            "/usr/local/lib/python3.7/dist-packages/statsmodels/tsa/base/tsa_model.py:165: ValueWarning: No frequency information was provided, so inferred frequency D will be used.\n",
            "  % freq, ValueWarning)\n",
            "/usr/local/lib/python3.7/dist-packages/statsmodels/tsa/base/tsa_model.py:165: ValueWarning: No frequency information was provided, so inferred frequency D will be used.\n",
            "  % freq, ValueWarning)\n"
          ],
          "name": "stderr"
        },
        {
          "output_type": "stream",
          "text": [
            "ARIMA(0, 0, 0)x(0, 0, 1, 12)12 - AIC:2569.960997947481\n",
            "ARIMA(0, 0, 0)x(0, 1, 0, 12)12 - AIC:-321.0687907829688\n",
            "ARIMA(0, 0, 0)x(0, 1, 1, 12)12 - AIC:-313.2792423693571\n",
            "ARIMA(0, 0, 0)x(1, 0, 0, 12)12 - AIC:-350.61835313553377\n"
          ],
          "name": "stdout"
        },
        {
          "output_type": "stream",
          "text": [
            "/usr/local/lib/python3.7/dist-packages/statsmodels/tsa/base/tsa_model.py:165: ValueWarning: No frequency information was provided, so inferred frequency D will be used.\n",
            "  % freq, ValueWarning)\n",
            "/usr/local/lib/python3.7/dist-packages/statsmodels/tsa/base/tsa_model.py:165: ValueWarning: No frequency information was provided, so inferred frequency D will be used.\n",
            "  % freq, ValueWarning)\n"
          ],
          "name": "stderr"
        },
        {
          "output_type": "stream",
          "text": [
            "ARIMA(0, 0, 0)x(1, 0, 1, 12)12 - AIC:-351.3494514002414\n",
            "ARIMA(0, 0, 0)x(1, 1, 0, 12)12 - AIC:-315.10310250523264\n"
          ],
          "name": "stdout"
        },
        {
          "output_type": "stream",
          "text": [
            "/usr/local/lib/python3.7/dist-packages/statsmodels/tsa/base/tsa_model.py:165: ValueWarning: No frequency information was provided, so inferred frequency D will be used.\n",
            "  % freq, ValueWarning)\n",
            "/usr/local/lib/python3.7/dist-packages/statsmodels/tsa/base/tsa_model.py:165: ValueWarning: No frequency information was provided, so inferred frequency D will be used.\n",
            "  % freq, ValueWarning)\n"
          ],
          "name": "stderr"
        },
        {
          "output_type": "stream",
          "text": [
            "ARIMA(0, 0, 0)x(1, 1, 1, 12)12 - AIC:-319.80197780471224\n",
            "ARIMA(0, 0, 1)x(0, 0, 0, 12)12 - AIC:2166.0991783573118\n"
          ],
          "name": "stdout"
        },
        {
          "output_type": "stream",
          "text": [
            "/usr/local/lib/python3.7/dist-packages/statsmodels/tsa/base/tsa_model.py:165: ValueWarning: No frequency information was provided, so inferred frequency D will be used.\n",
            "  % freq, ValueWarning)\n",
            "/usr/local/lib/python3.7/dist-packages/statsmodels/tsa/base/tsa_model.py:165: ValueWarning: No frequency information was provided, so inferred frequency D will be used.\n",
            "  % freq, ValueWarning)\n",
            "/usr/local/lib/python3.7/dist-packages/statsmodels/base/model.py:512: ConvergenceWarning: Maximum Likelihood optimization failed to converge. Check mle_retvals\n",
            "  \"Check mle_retvals\", ConvergenceWarning)\n",
            "/usr/local/lib/python3.7/dist-packages/statsmodels/tsa/base/tsa_model.py:165: ValueWarning: No frequency information was provided, so inferred frequency D will be used.\n",
            "  % freq, ValueWarning)\n",
            "/usr/local/lib/python3.7/dist-packages/statsmodels/tsa/base/tsa_model.py:165: ValueWarning: No frequency information was provided, so inferred frequency D will be used.\n",
            "  % freq, ValueWarning)\n"
          ],
          "name": "stderr"
        },
        {
          "output_type": "stream",
          "text": [
            "ARIMA(0, 0, 1)x(0, 0, 1, 12)12 - AIC:2102.1750877527465\n",
            "ARIMA(0, 0, 1)x(0, 1, 0, 12)12 - AIC:-596.0871019379088\n",
            "ARIMA(0, 0, 1)x(0, 1, 1, 12)12 - AIC:-567.0889380663992\n"
          ],
          "name": "stdout"
        },
        {
          "output_type": "stream",
          "text": [
            "/usr/local/lib/python3.7/dist-packages/statsmodels/tsa/base/tsa_model.py:165: ValueWarning: No frequency information was provided, so inferred frequency D will be used.\n",
            "  % freq, ValueWarning)\n"
          ],
          "name": "stderr"
        },
        {
          "output_type": "stream",
          "text": [
            "ARIMA(0, 0, 1)x(1, 0, 0, 12)12 - AIC:-621.3923409709557\n"
          ],
          "name": "stdout"
        },
        {
          "output_type": "stream",
          "text": [
            "/usr/local/lib/python3.7/dist-packages/statsmodels/tsa/base/tsa_model.py:165: ValueWarning: No frequency information was provided, so inferred frequency D will be used.\n",
            "  % freq, ValueWarning)\n"
          ],
          "name": "stderr"
        },
        {
          "output_type": "stream",
          "text": [
            "ARIMA(0, 0, 1)x(1, 0, 1, 12)12 - AIC:-614.7770326167824\n"
          ],
          "name": "stdout"
        },
        {
          "output_type": "stream",
          "text": [
            "/usr/local/lib/python3.7/dist-packages/statsmodels/tsa/base/tsa_model.py:165: ValueWarning: No frequency information was provided, so inferred frequency D will be used.\n",
            "  % freq, ValueWarning)\n"
          ],
          "name": "stderr"
        },
        {
          "output_type": "stream",
          "text": [
            "ARIMA(0, 0, 1)x(1, 1, 0, 12)12 - AIC:-570.0704736049479\n"
          ],
          "name": "stdout"
        },
        {
          "output_type": "stream",
          "text": [
            "/usr/local/lib/python3.7/dist-packages/statsmodels/tsa/base/tsa_model.py:165: ValueWarning: No frequency information was provided, so inferred frequency D will be used.\n",
            "  % freq, ValueWarning)\n",
            "/usr/local/lib/python3.7/dist-packages/statsmodels/base/model.py:512: ConvergenceWarning: Maximum Likelihood optimization failed to converge. Check mle_retvals\n",
            "  \"Check mle_retvals\", ConvergenceWarning)\n",
            "/usr/local/lib/python3.7/dist-packages/statsmodels/tsa/base/tsa_model.py:165: ValueWarning: No frequency information was provided, so inferred frequency D will be used.\n",
            "  % freq, ValueWarning)\n",
            "/usr/local/lib/python3.7/dist-packages/statsmodels/tsa/base/tsa_model.py:165: ValueWarning: No frequency information was provided, so inferred frequency D will be used.\n",
            "  % freq, ValueWarning)\n"
          ],
          "name": "stderr"
        },
        {
          "output_type": "stream",
          "text": [
            "ARIMA(0, 0, 1)x(1, 1, 1, 12)12 - AIC:-600.4732255726456\n",
            "ARIMA(0, 1, 0)x(0, 0, 0, 12)12 - AIC:-1243.840870798997\n",
            "ARIMA(0, 1, 0)x(0, 0, 1, 12)12 - AIC:-1194.0709183747567\n",
            "ARIMA(0, 1, 0)x(0, 1, 0, 12)12 - AIC:-965.0569897664769\n"
          ],
          "name": "stdout"
        },
        {
          "output_type": "stream",
          "text": [
            "/usr/local/lib/python3.7/dist-packages/statsmodels/tsa/base/tsa_model.py:165: ValueWarning: No frequency information was provided, so inferred frequency D will be used.\n",
            "  % freq, ValueWarning)\n",
            "/usr/local/lib/python3.7/dist-packages/statsmodels/tsa/base/tsa_model.py:165: ValueWarning: No frequency information was provided, so inferred frequency D will be used.\n",
            "  % freq, ValueWarning)\n"
          ],
          "name": "stderr"
        },
        {
          "output_type": "stream",
          "text": [
            "ARIMA(0, 1, 0)x(0, 1, 1, 12)12 - AIC:-1119.2264710853412\n",
            "ARIMA(0, 1, 0)x(1, 0, 0, 12)12 - AIC:-1197.1218401555393\n"
          ],
          "name": "stdout"
        },
        {
          "output_type": "stream",
          "text": [
            "/usr/local/lib/python3.7/dist-packages/statsmodels/tsa/base/tsa_model.py:165: ValueWarning: No frequency information was provided, so inferred frequency D will be used.\n",
            "  % freq, ValueWarning)\n",
            "/usr/local/lib/python3.7/dist-packages/statsmodels/tsa/base/tsa_model.py:165: ValueWarning: No frequency information was provided, so inferred frequency D will be used.\n",
            "  % freq, ValueWarning)\n"
          ],
          "name": "stderr"
        },
        {
          "output_type": "stream",
          "text": [
            "ARIMA(0, 1, 0)x(1, 0, 1, 12)12 - AIC:-1217.0844027349763\n"
          ],
          "name": "stdout"
        },
        {
          "output_type": "stream",
          "text": [
            "/usr/local/lib/python3.7/dist-packages/statsmodels/tsa/base/tsa_model.py:165: ValueWarning: No frequency information was provided, so inferred frequency D will be used.\n",
            "  % freq, ValueWarning)\n",
            "/usr/local/lib/python3.7/dist-packages/statsmodels/base/model.py:512: ConvergenceWarning: Maximum Likelihood optimization failed to converge. Check mle_retvals\n",
            "  \"Check mle_retvals\", ConvergenceWarning)\n",
            "/usr/local/lib/python3.7/dist-packages/statsmodels/tsa/base/tsa_model.py:165: ValueWarning: No frequency information was provided, so inferred frequency D will be used.\n",
            "  % freq, ValueWarning)\n"
          ],
          "name": "stderr"
        },
        {
          "output_type": "stream",
          "text": [
            "ARIMA(0, 1, 0)x(1, 1, 0, 12)12 - AIC:-1027.7710501589677\n",
            "ARIMA(0, 1, 0)x(1, 1, 1, 12)12 - AIC:-1109.5842006705318\n",
            "ARIMA(0, 1, 1)x(0, 0, 0, 12)12 - AIC:-1239.8286275335304\n",
            "ARIMA(0, 1, 1)x(0, 0, 1, 12)12 - AIC:-1189.7378700447157\n"
          ],
          "name": "stdout"
        },
        {
          "output_type": "stream",
          "text": [
            "/usr/local/lib/python3.7/dist-packages/statsmodels/tsa/base/tsa_model.py:165: ValueWarning: No frequency information was provided, so inferred frequency D will be used.\n",
            "  % freq, ValueWarning)\n",
            "/usr/local/lib/python3.7/dist-packages/statsmodels/tsa/base/tsa_model.py:165: ValueWarning: No frequency information was provided, so inferred frequency D will be used.\n",
            "  % freq, ValueWarning)\n",
            "/usr/local/lib/python3.7/dist-packages/statsmodels/tsa/base/tsa_model.py:165: ValueWarning: No frequency information was provided, so inferred frequency D will be used.\n",
            "  % freq, ValueWarning)\n"
          ],
          "name": "stderr"
        },
        {
          "output_type": "stream",
          "text": [
            "ARIMA(0, 1, 1)x(0, 1, 0, 12)12 - AIC:-962.8295590830447\n"
          ],
          "name": "stdout"
        },
        {
          "output_type": "stream",
          "text": [
            "/usr/local/lib/python3.7/dist-packages/statsmodels/tsa/base/tsa_model.py:165: ValueWarning: No frequency information was provided, so inferred frequency D will be used.\n",
            "  % freq, ValueWarning)\n"
          ],
          "name": "stderr"
        },
        {
          "output_type": "stream",
          "text": [
            "ARIMA(0, 1, 1)x(0, 1, 1, 12)12 - AIC:-1115.1353051270908\n",
            "ARIMA(0, 1, 1)x(1, 0, 0, 12)12 - AIC:-1197.161723850662\n"
          ],
          "name": "stdout"
        },
        {
          "output_type": "stream",
          "text": [
            "/usr/local/lib/python3.7/dist-packages/statsmodels/tsa/base/tsa_model.py:165: ValueWarning: No frequency information was provided, so inferred frequency D will be used.\n",
            "  % freq, ValueWarning)\n",
            "/usr/local/lib/python3.7/dist-packages/statsmodels/tsa/base/tsa_model.py:165: ValueWarning: No frequency information was provided, so inferred frequency D will be used.\n",
            "  % freq, ValueWarning)\n"
          ],
          "name": "stderr"
        },
        {
          "output_type": "stream",
          "text": [
            "ARIMA(0, 1, 1)x(1, 0, 1, 12)12 - AIC:-1212.22802818421\n"
          ],
          "name": "stdout"
        },
        {
          "output_type": "stream",
          "text": [
            "/usr/local/lib/python3.7/dist-packages/statsmodels/tsa/base/tsa_model.py:165: ValueWarning: No frequency information was provided, so inferred frequency D will be used.\n",
            "  % freq, ValueWarning)\n"
          ],
          "name": "stderr"
        },
        {
          "output_type": "stream",
          "text": [
            "ARIMA(0, 1, 1)x(1, 1, 0, 12)12 - AIC:-1026.6192402162271\n"
          ],
          "name": "stdout"
        },
        {
          "output_type": "stream",
          "text": [
            "/usr/local/lib/python3.7/dist-packages/statsmodels/tsa/base/tsa_model.py:165: ValueWarning: No frequency information was provided, so inferred frequency D will be used.\n",
            "  % freq, ValueWarning)\n"
          ],
          "name": "stderr"
        },
        {
          "output_type": "stream",
          "text": [
            "ARIMA(0, 1, 1)x(1, 1, 1, 12)12 - AIC:-1106.0539624955286\n",
            "ARIMA(1, 0, 0)x(0, 0, 0, 12)12 - AIC:-1249.4460690883827\n"
          ],
          "name": "stdout"
        },
        {
          "output_type": "stream",
          "text": [
            "/usr/local/lib/python3.7/dist-packages/statsmodels/tsa/base/tsa_model.py:165: ValueWarning: No frequency information was provided, so inferred frequency D will be used.\n",
            "  % freq, ValueWarning)\n",
            "/usr/local/lib/python3.7/dist-packages/statsmodels/tsa/base/tsa_model.py:165: ValueWarning: No frequency information was provided, so inferred frequency D will be used.\n",
            "  % freq, ValueWarning)\n",
            "/usr/local/lib/python3.7/dist-packages/statsmodels/base/model.py:512: ConvergenceWarning: Maximum Likelihood optimization failed to converge. Check mle_retvals\n",
            "  \"Check mle_retvals\", ConvergenceWarning)\n",
            "/usr/local/lib/python3.7/dist-packages/statsmodels/tsa/base/tsa_model.py:165: ValueWarning: No frequency information was provided, so inferred frequency D will be used.\n",
            "  % freq, ValueWarning)\n",
            "/usr/local/lib/python3.7/dist-packages/statsmodels/tsa/base/tsa_model.py:165: ValueWarning: No frequency information was provided, so inferred frequency D will be used.\n",
            "  % freq, ValueWarning)\n"
          ],
          "name": "stderr"
        },
        {
          "output_type": "stream",
          "text": [
            "ARIMA(1, 0, 0)x(0, 0, 1, 12)12 - AIC:-1197.0886678569461\n",
            "ARIMA(1, 0, 0)x(0, 1, 0, 12)12 - AIC:-979.2036631054209\n",
            "ARIMA(1, 0, 0)x(0, 1, 1, 12)12 - AIC:-1120.288366723194\n"
          ],
          "name": "stdout"
        },
        {
          "output_type": "stream",
          "text": [
            "/usr/local/lib/python3.7/dist-packages/statsmodels/tsa/base/tsa_model.py:165: ValueWarning: No frequency information was provided, so inferred frequency D will be used.\n",
            "  % freq, ValueWarning)\n"
          ],
          "name": "stderr"
        },
        {
          "output_type": "stream",
          "text": [
            "ARIMA(1, 0, 0)x(1, 0, 0, 12)12 - AIC:-1198.0280118666844\n"
          ],
          "name": "stdout"
        },
        {
          "output_type": "stream",
          "text": [
            "/usr/local/lib/python3.7/dist-packages/statsmodels/tsa/base/tsa_model.py:165: ValueWarning: No frequency information was provided, so inferred frequency D will be used.\n",
            "  % freq, ValueWarning)\n"
          ],
          "name": "stderr"
        },
        {
          "output_type": "stream",
          "text": [
            "ARIMA(1, 0, 0)x(1, 0, 1, 12)12 - AIC:-1221.2572549985364\n"
          ],
          "name": "stdout"
        },
        {
          "output_type": "stream",
          "text": [
            "/usr/local/lib/python3.7/dist-packages/statsmodels/tsa/base/tsa_model.py:165: ValueWarning: No frequency information was provided, so inferred frequency D will be used.\n",
            "  % freq, ValueWarning)\n"
          ],
          "name": "stderr"
        },
        {
          "output_type": "stream",
          "text": [
            "ARIMA(1, 0, 0)x(1, 1, 0, 12)12 - AIC:-1032.6502990519334\n"
          ],
          "name": "stdout"
        },
        {
          "output_type": "stream",
          "text": [
            "/usr/local/lib/python3.7/dist-packages/statsmodels/tsa/base/tsa_model.py:165: ValueWarning: No frequency information was provided, so inferred frequency D will be used.\n",
            "  % freq, ValueWarning)\n"
          ],
          "name": "stderr"
        },
        {
          "output_type": "stream",
          "text": [
            "ARIMA(1, 0, 0)x(1, 1, 1, 12)12 - AIC:-1109.5115275883309\n",
            "ARIMA(1, 0, 1)x(0, 0, 0, 12)12 - AIC:-1246.0105378043452\n"
          ],
          "name": "stdout"
        },
        {
          "output_type": "stream",
          "text": [
            "/usr/local/lib/python3.7/dist-packages/statsmodels/tsa/base/tsa_model.py:165: ValueWarning: No frequency information was provided, so inferred frequency D will be used.\n",
            "  % freq, ValueWarning)\n",
            "/usr/local/lib/python3.7/dist-packages/statsmodels/tsa/base/tsa_model.py:165: ValueWarning: No frequency information was provided, so inferred frequency D will be used.\n",
            "  % freq, ValueWarning)\n"
          ],
          "name": "stderr"
        },
        {
          "output_type": "stream",
          "text": [
            "ARIMA(1, 0, 1)x(0, 0, 1, 12)12 - AIC:-1135.0426872219332\n"
          ],
          "name": "stdout"
        },
        {
          "output_type": "stream",
          "text": [
            "/usr/local/lib/python3.7/dist-packages/statsmodels/tsa/base/tsa_model.py:165: ValueWarning: No frequency information was provided, so inferred frequency D will be used.\n",
            "  % freq, ValueWarning)\n"
          ],
          "name": "stderr"
        },
        {
          "output_type": "stream",
          "text": [
            "ARIMA(1, 0, 1)x(0, 1, 0, 12)12 - AIC:-975.6102625212651\n"
          ],
          "name": "stdout"
        },
        {
          "output_type": "stream",
          "text": [
            "/usr/local/lib/python3.7/dist-packages/statsmodels/tsa/base/tsa_model.py:165: ValueWarning: No frequency information was provided, so inferred frequency D will be used.\n",
            "  % freq, ValueWarning)\n"
          ],
          "name": "stderr"
        },
        {
          "output_type": "stream",
          "text": [
            "ARIMA(1, 0, 1)x(0, 1, 1, 12)12 - AIC:-1117.6249500666647\n"
          ],
          "name": "stdout"
        },
        {
          "output_type": "stream",
          "text": [
            "/usr/local/lib/python3.7/dist-packages/statsmodels/tsa/base/tsa_model.py:165: ValueWarning: No frequency information was provided, so inferred frequency D will be used.\n",
            "  % freq, ValueWarning)\n"
          ],
          "name": "stderr"
        },
        {
          "output_type": "stream",
          "text": [
            "ARIMA(1, 0, 1)x(1, 0, 0, 12)12 - AIC:-1198.5210064040143\n"
          ],
          "name": "stdout"
        },
        {
          "output_type": "stream",
          "text": [
            "/usr/local/lib/python3.7/dist-packages/statsmodels/tsa/base/tsa_model.py:165: ValueWarning: No frequency information was provided, so inferred frequency D will be used.\n",
            "  % freq, ValueWarning)\n"
          ],
          "name": "stderr"
        },
        {
          "output_type": "stream",
          "text": [
            "ARIMA(1, 0, 1)x(1, 0, 1, 12)12 - AIC:-1217.4401705310072\n"
          ],
          "name": "stdout"
        },
        {
          "output_type": "stream",
          "text": [
            "/usr/local/lib/python3.7/dist-packages/statsmodels/tsa/base/tsa_model.py:165: ValueWarning: No frequency information was provided, so inferred frequency D will be used.\n",
            "  % freq, ValueWarning)\n"
          ],
          "name": "stderr"
        },
        {
          "output_type": "stream",
          "text": [
            "ARIMA(1, 0, 1)x(1, 1, 0, 12)12 - AIC:-1030.9806511617269\n"
          ],
          "name": "stdout"
        },
        {
          "output_type": "stream",
          "text": [
            "/usr/local/lib/python3.7/dist-packages/statsmodels/tsa/base/tsa_model.py:165: ValueWarning: No frequency information was provided, so inferred frequency D will be used.\n",
            "  % freq, ValueWarning)\n"
          ],
          "name": "stderr"
        },
        {
          "output_type": "stream",
          "text": [
            "ARIMA(1, 0, 1)x(1, 1, 1, 12)12 - AIC:-1108.1505622286631\n",
            "ARIMA(1, 1, 0)x(0, 0, 0, 12)12 - AIC:-1244.5577283928822\n"
          ],
          "name": "stdout"
        },
        {
          "output_type": "stream",
          "text": [
            "/usr/local/lib/python3.7/dist-packages/statsmodels/tsa/base/tsa_model.py:165: ValueWarning: No frequency information was provided, so inferred frequency D will be used.\n",
            "  % freq, ValueWarning)\n",
            "/usr/local/lib/python3.7/dist-packages/statsmodels/tsa/base/tsa_model.py:165: ValueWarning: No frequency information was provided, so inferred frequency D will be used.\n",
            "  % freq, ValueWarning)\n"
          ],
          "name": "stderr"
        },
        {
          "output_type": "stream",
          "text": [
            "ARIMA(1, 1, 0)x(0, 0, 1, 12)12 - AIC:-1194.3406047036124\n"
          ],
          "name": "stdout"
        },
        {
          "output_type": "stream",
          "text": [
            "/usr/local/lib/python3.7/dist-packages/statsmodels/tsa/base/tsa_model.py:165: ValueWarning: No frequency information was provided, so inferred frequency D will be used.\n",
            "  % freq, ValueWarning)\n"
          ],
          "name": "stderr"
        },
        {
          "output_type": "stream",
          "text": [
            "ARIMA(1, 1, 0)x(0, 1, 0, 12)12 - AIC:-966.8723645301168\n"
          ],
          "name": "stdout"
        },
        {
          "output_type": "stream",
          "text": [
            "/usr/local/lib/python3.7/dist-packages/statsmodels/tsa/base/tsa_model.py:165: ValueWarning: No frequency information was provided, so inferred frequency D will be used.\n",
            "  % freq, ValueWarning)\n"
          ],
          "name": "stderr"
        },
        {
          "output_type": "stream",
          "text": [
            "ARIMA(1, 1, 0)x(0, 1, 1, 12)12 - AIC:-1119.385843165506\n",
            "ARIMA(1, 1, 0)x(1, 0, 0, 12)12 - AIC:-1194.3756574928511\n"
          ],
          "name": "stdout"
        },
        {
          "output_type": "stream",
          "text": [
            "/usr/local/lib/python3.7/dist-packages/statsmodels/tsa/base/tsa_model.py:165: ValueWarning: No frequency information was provided, so inferred frequency D will be used.\n",
            "  % freq, ValueWarning)\n",
            "/usr/local/lib/python3.7/dist-packages/statsmodels/tsa/base/tsa_model.py:165: ValueWarning: No frequency information was provided, so inferred frequency D will be used.\n",
            "  % freq, ValueWarning)\n"
          ],
          "name": "stderr"
        },
        {
          "output_type": "stream",
          "text": [
            "ARIMA(1, 1, 0)x(1, 0, 1, 12)12 - AIC:-1216.3889510274857\n"
          ],
          "name": "stdout"
        },
        {
          "output_type": "stream",
          "text": [
            "/usr/local/lib/python3.7/dist-packages/statsmodels/tsa/base/tsa_model.py:165: ValueWarning: No frequency information was provided, so inferred frequency D will be used.\n",
            "  % freq, ValueWarning)\n",
            "/usr/local/lib/python3.7/dist-packages/statsmodels/base/model.py:512: ConvergenceWarning: Maximum Likelihood optimization failed to converge. Check mle_retvals\n",
            "  \"Check mle_retvals\", ConvergenceWarning)\n",
            "/usr/local/lib/python3.7/dist-packages/statsmodels/tsa/base/tsa_model.py:165: ValueWarning: No frequency information was provided, so inferred frequency D will be used.\n",
            "  % freq, ValueWarning)\n"
          ],
          "name": "stderr"
        },
        {
          "output_type": "stream",
          "text": [
            "ARIMA(1, 1, 0)x(1, 1, 0, 12)12 - AIC:-1023.8338838489149\n",
            "ARIMA(1, 1, 0)x(1, 1, 1, 12)12 - AIC:-1110.0506653702037\n",
            "ARIMA(1, 1, 1)x(0, 0, 0, 12)12 - AIC:-1243.6427147173285\n"
          ],
          "name": "stdout"
        },
        {
          "output_type": "stream",
          "text": [
            "/usr/local/lib/python3.7/dist-packages/statsmodels/tsa/base/tsa_model.py:165: ValueWarning: No frequency information was provided, so inferred frequency D will be used.\n",
            "  % freq, ValueWarning)\n",
            "/usr/local/lib/python3.7/dist-packages/statsmodels/tsa/base/tsa_model.py:165: ValueWarning: No frequency information was provided, so inferred frequency D will be used.\n",
            "  % freq, ValueWarning)\n"
          ],
          "name": "stderr"
        },
        {
          "output_type": "stream",
          "text": [
            "ARIMA(1, 1, 1)x(0, 0, 1, 12)12 - AIC:-1192.5571060897105\n",
            "ARIMA(1, 1, 1)x(0, 1, 0, 12)12 - AIC:-966.0690441709505\n"
          ],
          "name": "stdout"
        },
        {
          "output_type": "stream",
          "text": [
            "/usr/local/lib/python3.7/dist-packages/statsmodels/tsa/base/tsa_model.py:165: ValueWarning: No frequency information was provided, so inferred frequency D will be used.\n",
            "  % freq, ValueWarning)\n",
            "/usr/local/lib/python3.7/dist-packages/statsmodels/tsa/base/tsa_model.py:165: ValueWarning: No frequency information was provided, so inferred frequency D will be used.\n",
            "  % freq, ValueWarning)\n"
          ],
          "name": "stderr"
        },
        {
          "output_type": "stream",
          "text": [
            "ARIMA(1, 1, 1)x(0, 1, 1, 12)12 - AIC:-1118.0880566196997\n"
          ],
          "name": "stdout"
        },
        {
          "output_type": "stream",
          "text": [
            "/usr/local/lib/python3.7/dist-packages/statsmodels/tsa/base/tsa_model.py:165: ValueWarning: No frequency information was provided, so inferred frequency D will be used.\n",
            "  % freq, ValueWarning)\n"
          ],
          "name": "stderr"
        },
        {
          "output_type": "stream",
          "text": [
            "ARIMA(1, 1, 1)x(1, 0, 0, 12)12 - AIC:-1195.878462365834\n"
          ],
          "name": "stdout"
        },
        {
          "output_type": "stream",
          "text": [
            "/usr/local/lib/python3.7/dist-packages/statsmodels/tsa/base/tsa_model.py:165: ValueWarning: No frequency information was provided, so inferred frequency D will be used.\n",
            "  % freq, ValueWarning)\n"
          ],
          "name": "stderr"
        },
        {
          "output_type": "stream",
          "text": [
            "ARIMA(1, 1, 1)x(1, 0, 1, 12)12 - AIC:-1203.9370623947475\n"
          ],
          "name": "stdout"
        },
        {
          "output_type": "stream",
          "text": [
            "/usr/local/lib/python3.7/dist-packages/statsmodels/tsa/base/tsa_model.py:165: ValueWarning: No frequency information was provided, so inferred frequency D will be used.\n",
            "  % freq, ValueWarning)\n"
          ],
          "name": "stderr"
        },
        {
          "output_type": "stream",
          "text": [
            "ARIMA(1, 1, 1)x(1, 1, 0, 12)12 - AIC:-1025.0746229372212\n"
          ],
          "name": "stdout"
        },
        {
          "output_type": "stream",
          "text": [
            "/usr/local/lib/python3.7/dist-packages/statsmodels/tsa/base/tsa_model.py:165: ValueWarning: No frequency information was provided, so inferred frequency D will be used.\n",
            "  % freq, ValueWarning)\n"
          ],
          "name": "stderr"
        },
        {
          "output_type": "stream",
          "text": [
            "ARIMA(1, 1, 1)x(1, 1, 1, 12)12 - AIC:-1107.1722918388841\n"
          ],
          "name": "stdout"
        }
      ]
    },
    {
      "cell_type": "code",
      "metadata": {
        "colab": {
          "base_uri": "https://localhost:8080/"
        },
        "id": "2aUjDcNm5to1",
        "outputId": "01b9c21a-4989-4446-cfcd-3e9b64d5bc32"
      },
      "source": [
        "results\n"
      ],
      "execution_count": null,
      "outputs": [
        {
          "output_type": "execute_result",
          "data": {
            "text/plain": [
              "<statsmodels.tsa.statespace.sarimax.SARIMAXResultsWrapper at 0x7f90f2800210>"
            ]
          },
          "metadata": {
            "tags": []
          },
          "execution_count": 245
        }
      ]
    },
    {
      "cell_type": "markdown",
      "metadata": {
        "id": "modfrqaQ8ukR"
      },
      "source": [
        "**Observation**:\n",
        "\n",
        "The combination of (pdq) x (seasonal pdq), which has the lowest AIC value (-1249.4460690883827) is (1, 0, 0)x(0, 0, 0, 12)\n"
      ]
    },
    {
      "cell_type": "markdown",
      "metadata": {
        "id": "ao3cxIUF0fXP"
      },
      "source": [
        "# Stage-5: Train and test the model with the optimized parameters."
      ]
    },
    {
      "cell_type": "markdown",
      "metadata": {
        "id": "4kfAlvvb08Q4"
      },
      "source": [
        "## Fitting and Training\n",
        "Now that we have our parameters, let’s go ahead and train and fit the model to Bitcoin’s prices."
      ]
    },
    {
      "cell_type": "code",
      "metadata": {
        "id": "ooT0P2PDM-w3"
      },
      "source": [
        "import statsmodels.api as sm\n",
        "sm.tsa.statespace.SARIMAX\n",
        "\n",
        "\n",
        "# Splitting 80/20\n",
        "index = round(len(bitcoin_log)*.80)\n",
        "train = bitcoin_log.iloc[:index]\n",
        "test = bitcoin_log.iloc[index:]\n",
        "\n",
        "# Fitting the model to the training set\n",
        "model =  statsmodels.tsa.statespace.sarimax.SARIMAX (train, \n",
        "                order=(1, 0, 0), \n",
        "                seasonal_order=(0,0,0,12), \n",
        "                freq='D', \n",
        "                enforce_stationarity=False, \n",
        "                enforce_invertibility=False)\n",
        "output = model.fit()"
      ],
      "execution_count": null,
      "outputs": []
    },
    {
      "cell_type": "code",
      "metadata": {
        "colab": {
          "base_uri": "https://localhost:8080/"
        },
        "id": "sN1CUTTH6zEu",
        "outputId": "3815c62f-d047-45c4-d4ec-7a17677fe503"
      },
      "source": [
        "output"
      ],
      "execution_count": null,
      "outputs": [
        {
          "output_type": "execute_result",
          "data": {
            "text/plain": [
              "<statsmodels.tsa.statespace.sarimax.SARIMAXResultsWrapper at 0x7f90f2a58290>"
            ]
          },
          "metadata": {
            "tags": []
          },
          "execution_count": 247
        }
      ]
    },
    {
      "cell_type": "markdown",
      "metadata": {
        "id": "BoLZFs4pBFhV"
      },
      "source": [
        "**Observation**:\n",
        "\n",
        "The model has been successfully executed with the combination of pdq and seasonal pdq for the corresponding AIC value shown above."
      ]
    },
    {
      "cell_type": "markdown",
      "metadata": {
        "id": "E0vcFXQxDkNq"
      },
      "source": [
        "# Stage-6: Forecast the future of Cryptocurrency.\n",
        "\n",
        "* To test the model’s performance even further, we can see how its predictions line up with the values that we already know by plotting them out."
      ]
    },
    {
      "cell_type": "code",
      "metadata": {
        "colab": {
          "base_uri": "https://localhost:8080/",
          "height": 307
        },
        "id": "TjWsXEduZPa5",
        "outputId": "6efa9d58-97c4-4288-c18e-58be915e00b4"
      },
      "source": [
        "pred = output.get_prediction(start=pd.to_datetime('2021-02-06'), dynamic=False)\n",
        "pred_ci = pred.conf_int()\n",
        "y = train\n",
        "ax = train['2020':].plot(label='observed')\n",
        "pred.predicted_mean.plot(ax=ax, alpha=.7, figsize=(14, 4))\n",
        "ax.fill_between(pred_ci.index,\n",
        "                pred_ci.iloc[:, 0],\n",
        "                pred_ci.iloc[:, 1], color='k', alpha=.2)\n",
        "ax.set_title('Forecasted closing prices from feb 6 2021')\n",
        "ax.set_xlabel('Month')\n",
        "ax.set_ylabel('Closing_prices')\n",
        "plt.show()\n",
        "#label='One-step ahead Forecast'\n",
        "#ax.get_legend().remove()"
      ],
      "execution_count": null,
      "outputs": [
        {
          "output_type": "display_data",
          "data": {
            "image/png": "[encoded data removed]",
            "text/plain": [
              "<Figure size 1008x288 with 1 Axes>"
            ]
          },
          "metadata": {
            "tags": [],
            "needs_background": "light"
          }
        }
      ]
    },
    {
      "cell_type": "markdown",
      "metadata": {
        "id": "RF3ChnqrDThS"
      },
      "source": [
        "**Observation:**\n",
        "\n",
        "Forecasted results:\n",
        "In march 2021 there was a sudden dip and then there was a gradual increase in the bitcoin price. "
      ]
    },
    {
      "cell_type": "markdown",
      "metadata": {
        "id": "mzSwsLzcrJlH"
      },
      "source": [
        "### **Conclusion**\n",
        "\n",
        "According to the business value, I chose the closing price to be forecasted because it is the ultimate price everyone is interested. By selecting the best combination of p, d, and q values for the lowest AIC score, I forecasted the model. The results are shown for the future price which helps the people in making the necessary decisions to invest in bitcoin or not."
      ]
    },
    {
      "cell_type": "markdown",
      "metadata": {
        "id": "bh2EsqBgcF96"
      },
      "source": [
        "### **Summary**\n",
        "\n",
        "From the exploratory data analysis, we see that for all of the variables except that AdjClose there was a dip in march and then increase\n",
        "Proved that the data is stationarity by testing and visualizing.\n",
        "Selected the best pdq combination and presented the forecasting model."
      ]
    },
    {
      "cell_type": "code",
      "metadata": {
        "colab": {
          "base_uri": "https://localhost:8080/",
          "height": 321
        },
        "id": "gKOAPTpXYsms",
        "outputId": "70e28119-6a27-406f-bfd5-c5793966f83f"
      },
      "source": [
        "from IPython.display import YouTubeVideo\n",
        "YouTubeVideo('mjZUvaJNy_s')"
      ],
      "execution_count": null,
      "outputs": [
        {
          "output_type": "execute_result",
          "data": {
            "text/html": [
              "\n",
              "        <iframe\n",
              "            width=\"400\"\n",
              "            height=\"300\"\n",
              "            src=\"https://www.youtube.com/embed/mjZUvaJNy_s\"\n",
              "            frameborder=\"0\"\n",
              "            allowfullscreen\n",
              "        ></iframe>\n",
              "        "
            ],
            "text/plain": [
              "<IPython.lib.display.YouTubeVideo at 0x7f90f2849710>"
            ],
            "image/jpeg": "[encoded data removed]"
          },
          "metadata": {
            "tags": []
          },
          "execution_count": 249
        }
      ]
    },
    {
      "cell_type": "markdown",
      "metadata": {
        "id": "uTYRF0hPqtjZ"
      },
      "source": [
        "### **Future Work:**\n",
        "\n",
        "\n",
        "* Various other time series forecasting methods can be used.\n",
        "* Using them we can predict the future observations.\n",
        "\n",
        "\n",
        "\n",
        "\n",
        "\n"
      ]
    }
  ]
}